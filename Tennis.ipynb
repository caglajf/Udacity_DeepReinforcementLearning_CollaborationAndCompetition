{
 "cells": [
  {
   "cell_type": "markdown",
   "metadata": {},
   "source": [
    "# Collaboration and Competition\n",
    "\n",
    "---\n",
    "\n",
    "You are welcome to use this coding environment to train your agent for the project.  Follow the instructions below to get started!\n",
    "\n",
    "### 1. Start the Environment\n",
    "\n",
    "Run the next code cell to install a few packages.  This line will take a few minutes to run!"
   ]
  },
  {
   "cell_type": "code",
   "execution_count": 1,
   "metadata": {},
   "outputs": [
    {
     "name": "stdout",
     "output_type": "stream",
     "text": [
      "\u001b[31mtensorflow 1.7.1 has requirement numpy>=1.13.3, but you'll have numpy 1.12.1 which is incompatible.\u001b[0m\r\n",
      "\u001b[31mipython 6.5.0 has requirement prompt-toolkit<2.0.0,>=1.0.15, but you'll have prompt-toolkit 3.0.27 which is incompatible.\u001b[0m\r\n"
     ]
    }
   ],
   "source": [
    "!pip -q install ./python"
   ]
  },
  {
   "cell_type": "markdown",
   "metadata": {},
   "source": [
    "The environment is already saved in the Workspace and can be accessed at the file path provided below. "
   ]
  },
  {
   "cell_type": "code",
   "execution_count": 2,
   "metadata": {},
   "outputs": [
    {
     "name": "stderr",
     "output_type": "stream",
     "text": [
      "INFO:unityagents:\n",
      "'Academy' started successfully!\n",
      "Unity Academy name: Academy\n",
      "        Number of Brains: 1\n",
      "        Number of External Brains : 1\n",
      "        Lesson number : 0\n",
      "        Reset Parameters :\n",
      "\t\t\n",
      "Unity brain name: TennisBrain\n",
      "        Number of Visual Observations (per agent): 0\n",
      "        Vector Observation space type: continuous\n",
      "        Vector Observation space size (per agent): 8\n",
      "        Number of stacked Vector Observation: 3\n",
      "        Vector Action space type: continuous\n",
      "        Vector Action space size (per agent): 2\n",
      "        Vector Action descriptions: , \n"
     ]
    }
   ],
   "source": [
    "from unityagents import UnityEnvironment\n",
    "import numpy as np\n",
    "import matplotlib.pyplot as plt\n",
    "\n",
    "from collections import deque\n",
    "from unityagents import UnityEnvironment\n",
    "from maddpgAgent import MADDPG_Agent\n",
    "from buffer import Buffer\n",
    "from noiseModels import OUNoise, plot_OU\n",
    "\n",
    "env = UnityEnvironment(file_name=\"/data/Tennis_Linux_NoVis/Tennis\")"
   ]
  },
  {
   "cell_type": "markdown",
   "metadata": {},
   "source": [
    "Environments contain **_brains_** which are responsible for deciding the actions of their associated agents. Here we check for the first brain available, and set it as the default brain we will be controlling from Python."
   ]
  },
  {
   "cell_type": "code",
   "execution_count": 3,
   "metadata": {},
   "outputs": [],
   "source": [
    "# get the default brain\n",
    "brain_name = env.brain_names[0]\n",
    "brain = env.brains[brain_name]"
   ]
  },
  {
   "cell_type": "markdown",
   "metadata": {},
   "source": [
    "### 2. Examine the State and Action Spaces\n",
    "\n",
    "Run the code cell below to print some information about the environment."
   ]
  },
  {
   "cell_type": "code",
   "execution_count": 4,
   "metadata": {},
   "outputs": [
    {
     "name": "stdout",
     "output_type": "stream",
     "text": [
      "Number of agents: 2\n",
      "Size of each action: 2\n",
      "There are 2 agents. Each observes a state with length: 24\n",
      "The state for the first agent looks like: [ 0.          0.          0.          0.          0.          0.          0.\n",
      "  0.          0.          0.          0.          0.          0.          0.\n",
      "  0.          0.         -6.65278625 -1.5        -0.          0.\n",
      "  6.83172083  6.         -0.          0.        ]\n"
     ]
    }
   ],
   "source": [
    "# reset the environment\n",
    "env_info = env.reset(train_mode=True)[brain_name]\n",
    "\n",
    "# number of agents \n",
    "num_agents = len(env_info.agents)\n",
    "print('Number of agents:', num_agents)\n",
    "\n",
    "# size of each action\n",
    "action_size = brain.vector_action_space_size\n",
    "print('Size of each action:', action_size)\n",
    "\n",
    "# examine the state space \n",
    "states = env_info.vector_observations\n",
    "state_size = states.shape[1]\n",
    "print('There are {} agents. Each observes a state with length: {}'.format(states.shape[0], state_size))\n",
    "print('The state for the first agent looks like:', states[0])"
   ]
  },
  {
   "cell_type": "markdown",
   "metadata": {},
   "source": [
    "### 3. Take Random Actions in the Environment\n",
    "\n",
    "In the next code cell, you will learn how to use the Python API to control the agent and receive feedback from the environment.\n",
    "\n",
    "Note that **in this coding environment, you will not be able to watch the agents while they are training**, and you should set `train_mode=True` to restart the environment."
   ]
  },
  {
   "cell_type": "code",
   "execution_count": 5,
   "metadata": {},
   "outputs": [
    {
     "name": "stdout",
     "output_type": "stream",
     "text": [
      "Total score (averaged over agents) this episode: -0.004999999888241291\n",
      "Total score (averaged over agents) this episode: 0.04500000085681677\n",
      "Total score (averaged over agents) this episode: -0.004999999888241291\n",
      "Total score (averaged over agents) this episode: -0.004999999888241291\n",
      "Total score (averaged over agents) this episode: -0.004999999888241291\n"
     ]
    }
   ],
   "source": [
    "for i in range(5):                                         # play game for 5 episodes\n",
    "    env_info = env.reset(train_mode=False)[brain_name]     # reset the environment    \n",
    "    states = env_info.vector_observations                  # get the current state (for each agent)\n",
    "    scores = np.zeros(num_agents)                          # initialize the score (for each agent)\n",
    "    while True:\n",
    "        actions = np.random.randn(num_agents, action_size) # select an action (for each agent)\n",
    "        actions = np.clip(actions, -1, 1)                  # all actions between -1 and 1\n",
    "        env_info = env.step(actions)[brain_name]           # send all actions to tne environment\n",
    "        next_states = env_info.vector_observations         # get next state (for each agent)\n",
    "        rewards = env_info.rewards                         # get reward (for each agent)\n",
    "        dones = env_info.local_done                        # see if episode finished\n",
    "        scores += env_info.rewards                         # update the score (for each agent)\n",
    "        states = next_states                               # roll over states to next time step\n",
    "        if np.any(dones):                                  # exit loop if episode finished\n",
    "            break\n",
    "    print('Total score (averaged over agents) this episode: {}'.format(np.mean(scores)))"
   ]
  },
  {
   "cell_type": "markdown",
   "metadata": {},
   "source": [
    "When finished, you can close the environment."
   ]
  },
  {
   "cell_type": "code",
   "execution_count": 6,
   "metadata": {},
   "outputs": [],
   "source": [
    "env.close()"
   ]
  },
  {
   "cell_type": "markdown",
   "metadata": {},
   "source": [
    "### 4. It's Your Turn!\n",
    "\n",
    "Now it's your turn to train your own agent to solve the environment!  A few **important notes**:\n",
    "- When training the environment, set `train_mode=True`, so that the line for resetting the environment looks like the following:\n",
    "```python\n",
    "env_info = env.reset(train_mode=True)[brain_name]\n",
    "```\n",
    "- To structure your work, you're welcome to work directly in this Jupyter notebook, or you might like to start over with a new file!  You can see the list of files in the workspace by clicking on **_Jupyter_** in the top left corner of the notebook.\n",
    "- In this coding environment, you will not be able to watch the agents while they are training.  However, **_after training the agents_**, you can download the saved model weights to watch the agents on your own machine! "
   ]
  },
  {
   "cell_type": "code",
   "execution_count": 7,
   "metadata": {},
   "outputs": [
    {
     "ename": "UnityEnvironmentException",
     "evalue": "No Unity environment is loaded.",
     "output_type": "error",
     "traceback": [
      "\u001b[0;31m---------------------------------------------------------------------------\u001b[0m",
      "\u001b[0;31mUnityEnvironmentException\u001b[0m                 Traceback (most recent call last)",
      "\u001b[0;32m<ipython-input-7-2d8709ea5266>\u001b[0m in \u001b[0;36m<module>\u001b[0;34m()\u001b[0m\n\u001b[0;32m----> 1\u001b[0;31m \u001b[0menv_info\u001b[0m \u001b[0;34m=\u001b[0m \u001b[0menv\u001b[0m\u001b[0;34m.\u001b[0m\u001b[0mreset\u001b[0m\u001b[0;34m(\u001b[0m\u001b[0mtrain_mode\u001b[0m\u001b[0;34m=\u001b[0m\u001b[0;32mTrue\u001b[0m\u001b[0;34m)\u001b[0m\u001b[0;34m[\u001b[0m\u001b[0mbrain_name\u001b[0m\u001b[0;34m]\u001b[0m\u001b[0;34m\u001b[0m\u001b[0m\n\u001b[0m",
      "\u001b[0;32m/opt/conda/lib/python3.6/site-packages/unityagents/environment.py\u001b[0m in \u001b[0;36mreset\u001b[0;34m(self, train_mode, config, lesson)\u001b[0m\n\u001b[1;32m    270\u001b[0m             \u001b[0;32mreturn\u001b[0m \u001b[0ms\u001b[0m\u001b[0;34m[\u001b[0m\u001b[0;36m0\u001b[0m\u001b[0;34m]\u001b[0m\u001b[0;34m\u001b[0m\u001b[0m\n\u001b[1;32m    271\u001b[0m         \u001b[0;32melse\u001b[0m\u001b[0;34m:\u001b[0m\u001b[0;34m\u001b[0m\u001b[0m\n\u001b[0;32m--> 272\u001b[0;31m             \u001b[0;32mraise\u001b[0m \u001b[0mUnityEnvironmentException\u001b[0m\u001b[0;34m(\u001b[0m\u001b[0;34m\"No Unity environment is loaded.\"\u001b[0m\u001b[0;34m)\u001b[0m\u001b[0;34m\u001b[0m\u001b[0m\n\u001b[0m\u001b[1;32m    273\u001b[0m \u001b[0;34m\u001b[0m\u001b[0m\n\u001b[1;32m    274\u001b[0m     \u001b[0;32mdef\u001b[0m \u001b[0mstep\u001b[0m\u001b[0;34m(\u001b[0m\u001b[0mself\u001b[0m\u001b[0;34m,\u001b[0m  \u001b[0mvector_action\u001b[0m\u001b[0;34m=\u001b[0m\u001b[0;32mNone\u001b[0m\u001b[0;34m,\u001b[0m \u001b[0mmemory\u001b[0m\u001b[0;34m=\u001b[0m\u001b[0;32mNone\u001b[0m\u001b[0;34m,\u001b[0m \u001b[0mtext_action\u001b[0m\u001b[0;34m=\u001b[0m\u001b[0;32mNone\u001b[0m\u001b[0;34m)\u001b[0m \u001b[0;34m->\u001b[0m \u001b[0mAllBrainInfo\u001b[0m\u001b[0;34m:\u001b[0m\u001b[0;34m\u001b[0m\u001b[0m\n",
      "\u001b[0;31mUnityEnvironmentException\u001b[0m: No Unity environment is loaded."
     ]
    }
   ],
   "source": [
    "env_info = env.reset(train_mode=True)[brain_name]"
   ]
  },
  {
   "cell_type": "code",
   "execution_count": 8,
   "metadata": {},
   "outputs": [
    {
     "name": "stdout",
     "output_type": "stream",
     "text": [
      "Number of agents: 2\n",
      "Size of each action: 2\n",
      "There are 2 agents. Each observes a state with length: 24\n",
      "The state for the first agent looks like: [ 0.          0.          0.          0.          0.          0.          0.\n",
      "  0.          0.          0.          0.          0.          0.          0.\n",
      "  0.          0.         -6.14030886 -1.5        -0.          0.\n",
      " -7.11741829  5.97645617 -0.          0.        ]\n",
      "\n",
      "Box 1 done!\n"
     ]
    }
   ],
   "source": [
    "# number of agents \n",
    "num_agents = len(env_info.agents)\n",
    "print('Number of agents:', num_agents)\n",
    "\n",
    "# size of each action\n",
    "action_size = brain.vector_action_space_size\n",
    "print('Size of each action:', action_size)\n",
    "\n",
    "# examine the state space \n",
    "states = env_info.vector_observations\n",
    "state_size = states.shape[1]\n",
    "print('There are {} agents. Each observes a state with length: {}'.format(states.shape[0], state_size))\n",
    "print('The state for the first agent looks like:', states[0])\n",
    "\n",
    "\n",
    "print(\"\\nBox 1 done!\")"
   ]
  },
  {
   "cell_type": "code",
   "execution_count": 10,
   "metadata": {},
   "outputs": [
    {
     "name": "stdout",
     "output_type": "stream",
     "text": [
      "\n",
      " Box 2 done!\n"
     ]
    }
   ],
   "source": [
    "EPISODES = 5000                   # maximum number of episodes to train\n",
    "\n",
    "PRINT_EVERY = 200                 # print a new line of information every 200 episodes\n",
    "\n",
    "\n",
    "## hyperparameters\n",
    "actor_hidden_sizes = [400, 300]   # input and output sizes of the actor's hidden FC layer\n",
    "critic_hidden_sizes = [400, 300]  # input and output sizes of the critic's hidden FC layer\n",
    "gamma = 0.99                      # discounting\n",
    "actor_lr = 1e-4                   # learning rate of the actor network\n",
    "critic_lr = 1e-3                  # learning rate of the critic network\n",
    "critic_L2_decay = 0               # L2 weight decay of the critic network\n",
    "tau = 1e-3                        # the factor used for soft-updating actor/critic target networks\n",
    "\n",
    "\n",
    "## parameters of the noise (Ornstein–Uhlenbeck) process\n",
    "ou_scale = 1.0                    # initial scaling factor\n",
    "ou_decay = 0.9995                 # decay of the scaling factor ou_scale\n",
    "ou_mu = 0.0                       # asymptotic mean of the noise\n",
    "ou_theta = 0.15                   # magnitude of the drift term\n",
    "ou_sigma = 0.20                   # magnitude of the diffusion term\n",
    "\n",
    "\n",
    "## parameters of the replay buffer\n",
    "buffer_size = int(1e5)            # size of the buffer\n",
    "batch_size = 128                  # size of the sampling batch\n",
    "\n",
    "\n",
    "## Dictionary to pass into the MADDPG_Agent to create the agent\n",
    "config = {}\n",
    "config['actor_input_size'] = 24                         # dimension of the state (for each agent)\n",
    "config['actor_output_size'] = 2                         # dimension of the action (for each agent)\n",
    "config['actor_hidden_sizes'] = actor_hidden_sizes\n",
    "config['critic_state_size'] = 48                        # dimension of the state (for both agents)\n",
    "config['critic_action_size'] = 4                        # dimension of the action (for both agents)\n",
    "config['critic_hidden_sizes'] = critic_hidden_sizes\n",
    "config['actor_lr'] = actor_lr\n",
    "config['critic_lr'] = critic_lr\n",
    "config['critic_L2_decay'] = critic_L2_decay\n",
    "config['gamma'] = gamma\n",
    "config['tau'] = tau\n",
    "\n",
    "\n",
    "print(\"\\n Box 2 done!\")"
   ]
  },
  {
   "cell_type": "code",
   "execution_count": 9,
   "metadata": {},
   "outputs": [
    {
     "ename": "NameError",
     "evalue": "name 'buffer_size' is not defined",
     "output_type": "error",
     "traceback": [
      "\u001b[0;31m---------------------------------------------------------------------------\u001b[0m",
      "\u001b[0;31mNameError\u001b[0m                                 Traceback (most recent call last)",
      "\u001b[0;32m<ipython-input-9-3e3bea8ce2b2>\u001b[0m in \u001b[0;36m<module>\u001b[0;34m()\u001b[0m\n\u001b[1;32m      6\u001b[0m \u001b[0;34m\u001b[0m\u001b[0m\n\u001b[1;32m      7\u001b[0m \u001b[0;31m# create the replay buffer\u001b[0m\u001b[0;34m\u001b[0m\u001b[0;34m\u001b[0m\u001b[0m\n\u001b[0;32m----> 8\u001b[0;31m \u001b[0mbuffer\u001b[0m \u001b[0;34m=\u001b[0m \u001b[0mBuffer\u001b[0m\u001b[0;34m(\u001b[0m\u001b[0mbuffer_size\u001b[0m\u001b[0;34m,\u001b[0m \u001b[0mbatch_size\u001b[0m\u001b[0;34m)\u001b[0m\u001b[0;34m\u001b[0m\u001b[0m\n\u001b[0m\u001b[1;32m      9\u001b[0m \u001b[0;34m\u001b[0m\u001b[0m\n\u001b[1;32m     10\u001b[0m \u001b[0;31m# create the maddpg agents\u001b[0m\u001b[0;34m\u001b[0m\u001b[0;34m\u001b[0m\u001b[0m\n",
      "\u001b[0;31mNameError\u001b[0m: name 'buffer_size' is not defined"
     ]
    }
   ],
   "source": [
    "## MADDPG\n",
    "\n",
    "score_deque = deque(maxlen = 100)    # keep the maximum score over the agents in the past 100 episodes\n",
    "score_list = [[], []]                # keep the score of each agent\n",
    "max_score_list = []                  # keep the higher score in the episode\n",
    "\n",
    "# create the replay buffer\n",
    "buffer = Buffer(buffer_size, batch_size)\n",
    "\n",
    "# create the maddpg agents\n",
    "# the index of the agents are 0 and 1\n",
    "agents = [MADDPG_Agent(0, config), MADDPG_Agent(1, config)]\n",
    "\n",
    "# create the noise process\n",
    "noise_process = OUNoise(4, ou_mu, ou_theta, ou_sigma)\n",
    "\n",
    "# simulation of the noisen\n",
    "# note that the sampling in this simulation is independent of the sampling during the maddpg training\n",
    "print(\"Simulation of the noise Process:\")\n",
    "plot_OU(EPISODES, ou_scale, ou_decay, 1, ou_mu, ou_theta, ou_sigma)\n",
    "print(\"\\n\")\n",
    "\n",
    "for ep in range(1, EPISODES+1):\n",
    "\n",
    "    # env information\n",
    "    env_info = env.reset(train_mode = True)[brain_name]\n",
    "\n",
    "    # initial state. env provides the states with the shape (2, 24), reshape it to (1, 48)\n",
    "    states = env_info.vector_observations.reshape((1, 48))\n",
    "    \n",
    "    # scores for each agents\n",
    "    scores = np.zeros(2)  # ndarray shape (2, )\n",
    "\n",
    "    # time steps\n",
    "    t_step = 0 \n",
    "\n",
    "    while True:\n",
    "        t_step += 1\n",
    "\n",
    "        \"\"\"\n",
    "        Data collection\n",
    "        \"\"\"\n",
    "        # split into the states into the parts observed by each agent (ndarray)\n",
    "        states_0 = states[0, :24].reshape((1, 24))  # ndarray shape (1, 24)\n",
    "        states_1 = states[0, 24:].reshape((1, 24))  # ndarray shape (1, 24)\n",
    "        \n",
    "        # convert the states into tensors\n",
    "        states_0_t = torch.from_numpy(states_0).float().to(device)\n",
    "        states_1_t = torch.from_numpy(states_1).float().to(device)\n",
    "\n",
    "        # generate noise (ndarray)\n",
    "        noise = ou_scale * noise_process.get_noise().reshape((1, 4)) # ndarray shape (1, 4)\n",
    "        noise_avgabs = np.round(np.mean(np.abs(noise[0,:])), 3)      # see the average |noise| generated\n",
    "        # split the noise into the parts for each agent\n",
    "        noise_0 = noise[0, :2].reshape((1, 2))  # ndarray shape (1, 2)\n",
    "        noise_1 = noise[0, 2:].reshape((1, 2))  # ndarray shape (1, 2)\n",
    "\n",
    "        # decide actions by actor_local, convert to ndarray\n",
    "        actions_0 = agents[0].act(states_0_t, 'local', True, noise_0).detach().cpu().numpy() # agent 0\n",
    "        actions_1 = agents[1].act(states_1_t, 'local', True, noise_1).detach().cpu().numpy() # agent 1\n",
    "        actions = np.vstack((actions_0, actions_1)) # ndarray shape (2, 2)\n",
    "\n",
    "        # use the actions to interact with the environment\n",
    "        env_info = env.step(actions)[brain_name]                    # env info\n",
    "        next_states = env_info.vector_observations.reshape(1, 48)   # next states, converted to ndarray shape (1, 48)\n",
    "        rewards = np.array(env_info.rewards)                        # ndarray shape (2, )\n",
    "        dones = np.array(env_info.local_done)                       # ndarray shape (2, )\n",
    "\n",
    "        ## push into buffer\n",
    "        # states.flatten()       # ndarray shape (48, )\n",
    "        # actions.flatten()      # ndarray shape (4, )\n",
    "        # rewards                # ndarray shape (2, )\n",
    "        # next_states.flatten()  # ndarray shape (48, )\n",
    "        # dones                  # ndarray shape (2, )\n",
    "        buffer.add(states.flatten(), actions.flatten(), rewards, next_states.flatten(), dones)\n",
    "        \n",
    "        # update scores of each agent\n",
    "        scores += rewards\n",
    "            \n",
    "        # advance to th next state\n",
    "        states = next_states\n",
    "\n",
    "\n",
    "        \"\"\"\n",
    "        Policy learning\n",
    "        \"\"\"\n",
    "        ## train the agents if we have enough replays in the buffer\n",
    "        if len(buffer) >= batch_size:\n",
    "            # agent 0\n",
    "            agents[0].learn(buffer.sample(), agents[1])  # train Agent 0\n",
    "            # agent 1\n",
    "            agents[1].learn(buffer.sample(), agents[0])  # train Agent 1\n",
    "\n",
    "        # end the episode if at least one agent is in the terminal state\n",
    "        if np.any(dones):\n",
    "            break\n",
    "\n",
    "\n",
    "    # keep scores\n",
    "    score_list[0].append(scores[0])\n",
    "    score_list[1].append(scores[1])\n",
    "    score_deque.append(scores.max())\n",
    "    max_score_list.append(scores.max())\n",
    "\n",
    "    # average score of the past 100 episodes\n",
    "    AVG_100 = np.mean(score_deque)\n",
    "\n",
    "    # print the information\n",
    "    print(\"\\rEpisode {}\\tScore: {:.2f}\\tAvg: {:.2f}\\t|ou|: {:.3f}\".format(\n",
    "        ep, scores.max(), AVG_100, noise_avgabs), end=\"\")\n",
    "\n",
    "    # print a new line for every PRINT_EVERY epiodes\n",
    "    if ep % PRINT_EVERY == 0:\n",
    "        print(\"\\rEpisode {}\\tScore: {:.2f}\\tAvg: {:.2f}\\t|ou|: {:.3f}\".format(\n",
    "            ep, scores.max(), AVG_100, noise_avgabs))\n",
    "\n",
    "    # the condition when the task is considered solved\n",
    "    if AVG_100 > 0.5 and len(score_deque) >= 100:\n",
    "        print(\"\\nEnvironment is solved after {} episodes\\n\".format(ep - 100))\n",
    "        break\n",
    "    \n",
    "    # decrease the scaling factor of the noise\n",
    "    ou_scale *= ou_decay\n",
    "\n",
    "\n",
    "    \n",
    "## Save the weights\n",
    "torch.save(agents[0].actor_local.state_dict(), 'checkpoint_actor_0.pth')\n",
    "torch.save(agents[0].critic_local.state_dict(), 'checkpoint_critic_0.pth')\n",
    "torch.save(agents[1].actor_local.state_dict(), 'checkpoint_actor_1.pth')\n",
    "torch.save(agents[1].critic_local.state_dict(), 'checkpoint_critic_1.pth')\n",
    "\n",
    "\n",
    "## Plot the score of each episode\n",
    "plt.figure()\n",
    "plt.plot(range(len(max_score_list)), max_score_list)\n",
    "plt.plot([0, len(max_score_list)-1], [0.5, 0.5], 'r--')\n",
    "plt.title(\"Score history\")\n",
    "plt.xlabel(\"Episodes\")\n",
    "plt.ylabel(\"Highest score\")\n",
    "plt.show()"
   ]
  },
  {
   "cell_type": "code",
   "execution_count": null,
   "metadata": {},
   "outputs": [],
   "source": []
  }
 ],
 "metadata": {
  "kernelspec": {
   "display_name": "Python 3",
   "language": "python",
   "name": "python3"
  },
  "language_info": {
   "codemirror_mode": {
    "name": "ipython",
    "version": 3
   },
   "file_extension": ".py",
   "mimetype": "text/x-python",
   "name": "python",
   "nbconvert_exporter": "python",
   "pygments_lexer": "ipython3",
   "version": "3.6.3"
  }
 },
 "nbformat": 4,
 "nbformat_minor": 2
}
